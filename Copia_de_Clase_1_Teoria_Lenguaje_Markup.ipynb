{
  "nbformat": 4,
  "nbformat_minor": 0,
  "metadata": {
    "colab": {
      "provenance": [],
      "toc_visible": true,
      "include_colab_link": true
    },
    "kernelspec": {
      "name": "python3",
      "display_name": "Python 3"
    },
    "language_info": {
      "name": "python"
    }
  },
  "cells": [
    {
      "cell_type": "markdown",
      "metadata": {
        "id": "view-in-github",
        "colab_type": "text"
      },
      "source": [
        "<a href=\"https://colab.research.google.com/github/ddrozek/IntegradorFront_Drozek/blob/main/Copia_de_Clase_1_Teoria_Lenguaje_Markup.ipynb\" target=\"_parent\"><img src=\"https://colab.research.google.com/assets/colab-badge.svg\" alt=\"Open In Colab\"/></a>"
      ]
    },
    {
      "cell_type": "markdown",
      "source": [
        "# Google Colab\n",
        "Google Colab es un entorno de trabajo basado en [Jupyter Notebooks](https://jupyter.org/). Se utiliza para programar y ejecutar Python en el navegador de manera colaborativa, sin necesidad de configuración y con acceso a GPUs gratuito.\n",
        "\n",
        "Los cuadernos de Colab te permiten combinar código ejecutable y texto enriquecido en un mismo documento, además de imágenes, HTML, LaTeX y mucho más. Los cuadernos que creas en Colab se almacenan en tu cuenta de Google Drive. Puedes compartir tus cuadernos de Colab fácilmente con compañeros de trabajo o amigos, lo que les permite comentarlos o incluso editarlos.\n"
      ],
      "metadata": {
        "id": "1eHJyE1zAdyy"
      }
    },
    {
      "cell_type": "markdown",
      "source": [
        "Hace doble click en cada módulo para explorarlos"
      ],
      "metadata": {
        "id": "kP65ig9S8YsX"
      }
    },
    {
      "cell_type": "markdown",
      "source": [
        "# Título de nivel 1"
      ],
      "metadata": {
        "id": "MBLonzi26gft"
      }
    },
    {
      "cell_type": "markdown",
      "source": [
        "Contenido del capítulo 1"
      ],
      "metadata": {
        "id": "84GEWHnp8zQ1"
      }
    },
    {
      "cell_type": "markdown",
      "source": [
        "# Teoría de Markup"
      ],
      "metadata": {
        "id": "YM97QKSs8fmo"
      }
    },
    {
      "cell_type": "markdown",
      "source": [
        "## Aplcando formato al texto"
      ],
      "metadata": {
        "id": "0zwaXi9X8i96"
      }
    },
    {
      "cell_type": "markdown",
      "source": [
        "**Texto en negrita**"
      ],
      "metadata": {
        "id": "nkvGVfXl9ALg"
      }
    },
    {
      "cell_type": "markdown",
      "source": [
        "*Texto inclinado*"
      ],
      "metadata": {
        "id": "cS-QnRLj-TM0"
      }
    },
    {
      "cell_type": "markdown",
      "source": [
        "***Texto en negrita inclinado***"
      ],
      "metadata": {
        "id": "lKzQTGoK-U7k"
      }
    },
    {
      "cell_type": "markdown",
      "source": [
        "## Citando referencias"
      ],
      "metadata": {
        "id": "DfZYchKT9bKX"
      }
    },
    {
      "cell_type": "markdown",
      "source": [
        "> Cita ---- ✈"
      ],
      "metadata": {
        "id": "sYvBybSX9dWY"
      }
    },
    {
      "cell_type": "markdown",
      "source": [
        "## Links externos"
      ],
      "metadata": {
        "id": "KiaSHyT59yyI"
      }
    },
    {
      "cell_type": "markdown",
      "source": [
        "[Link a Kaggle](https://www.kaggle.com/)"
      ],
      "metadata": {
        "id": "tY5c-bOG93eX"
      }
    },
    {
      "cell_type": "markdown",
      "source": [
        "## Insertando bloques de código"
      ],
      "metadata": {
        "id": "yt0C3TlO-KyN"
      }
    },
    {
      "cell_type": "markdown",
      "source": [
        "Código inline:  `print(\"Hola Mundo!\")`"
      ],
      "metadata": {
        "id": "wcYbK6i1-OkN"
      }
    },
    {
      "cell_type": "markdown",
      "source": [
        "## Lista"
      ],
      "metadata": {
        "id": "_IgTgsCE-fWE"
      }
    },
    {
      "cell_type": "markdown",
      "source": [
        "- Item A\n",
        "- Item B\n",
        "- Item C"
      ],
      "metadata": {
        "id": "FnInBZ0k-iwJ"
      }
    },
    {
      "cell_type": "markdown",
      "source": [
        "## Lista ordenada"
      ],
      "metadata": {
        "id": "DgP3DT7t-r08"
      }
    },
    {
      "cell_type": "markdown",
      "source": [
        "1. Item 1\n",
        "2. Item 2\n",
        "3. Item 3"
      ],
      "metadata": {
        "id": "aCUM8XgF-vDk"
      }
    },
    {
      "cell_type": "markdown",
      "source": [
        "## Insertar una imágen del Drive"
      ],
      "metadata": {
        "id": "l1na3S-G-xSx"
      }
    },
    {
      "cell_type": "markdown",
      "source": [
        "1. Buscamos el id de la imagen (está en la URL, después de `d/` y antes de `/view...`). Por ejemplo: La imagen del perrito está en la URL `https://drive.google.com/file/d/1mobk1RnPua0SBvyAeogkkYo4MS0XkvFW/view?usp=drive_link`.\n",
        "Su ID es `1mobk1RnPua0SBvyAeogkkYo4MS0XkvFW`\n",
        "2. La insertamos en el siguiente código:\n",
        "\n",
        "  `<img src=\"https://drive.google.com/uc?id={id_de_la_imagen}\">`.\n",
        "    \n",
        "    Entonces queda:\n",
        "\n",
        "\n",
        "  `<img src=\"https://drive.google.com/uc?id=1mobk1RnPua0SBvyAeogkkYo4MS0XkvFW\">`\n",
        "\n",
        "Resultado:\n",
        "\n",
        "<img src=\"https://drive.google.com/uc?id=1mobk1RnPua0SBvyAeogkkYo4MS0XkvFW\">"
      ],
      "metadata": {
        "id": "yebvk_XG-24U"
      }
    },
    {
      "cell_type": "markdown",
      "source": [
        "# Ejecutamos código de Python"
      ],
      "metadata": {
        "id": "Ib3bLBPQ_f4n"
      }
    },
    {
      "cell_type": "markdown",
      "source": [
        "Versión de Python"
      ],
      "metadata": {
        "id": "QaPBQPEsDI8t"
      }
    },
    {
      "cell_type": "code",
      "source": [
        "import platform\n",
        "print(\"Version de Python con platform\")\n",
        "print(platform.python_version())\n",
        "print(f\"Evaluamos con type() platform.python_version(): {type(platform.python_version())}\")"
      ],
      "metadata": {
        "id": "yW44tpFHDHs4"
      },
      "execution_count": null,
      "outputs": []
    },
    {
      "cell_type": "code",
      "source": [
        "import sys\n",
        "print(\"Version de Python con sys\")\n",
        "print(sys.version)\n",
        "print(\"Información de la versión de Python\")\n",
        "print(sys.version_info)\n",
        "print(f\"Evaluamos con type() sys.version(): {type(sys.version)}\")"
      ],
      "metadata": {
        "id": "IaaPWGzCDQOr"
      },
      "execution_count": null,
      "outputs": []
    },
    {
      "cell_type": "markdown",
      "source": [
        "En Google Colab (y en entornos como Jupyter), %who y %whos son magias de línea (line magics) utilizadas para inspeccionar las variables que hay en el entorno actual."
      ],
      "metadata": {
        "id": "RzQEqlEzD3vW"
      }
    },
    {
      "cell_type": "code",
      "source": [
        "%whos"
      ],
      "metadata": {
        "id": "LBvI8ukjD50f"
      },
      "execution_count": null,
      "outputs": []
    },
    {
      "cell_type": "code",
      "source": [
        "%who"
      ],
      "metadata": {
        "id": "JzBVTRMtEgMe"
      },
      "execution_count": null,
      "outputs": []
    },
    {
      "cell_type": "markdown",
      "source": [
        "Jugamos con algunas variables"
      ],
      "metadata": {
        "id": "D99CvFxlEXpM"
      }
    },
    {
      "cell_type": "code",
      "source": [
        "# Hacer click en el buton Play para ejecutar el código siguiente\n",
        "a = 1\n",
        "b = 20\n",
        "c = \"Mi Golden Analytic\""
      ],
      "metadata": {
        "id": "zR6eIZLh_MeT"
      },
      "execution_count": null,
      "outputs": []
    },
    {
      "cell_type": "code",
      "source": [
        "print(a * b)\n",
        "print(\"Hola\", c)"
      ],
      "metadata": {
        "id": "qSZ-eOjm_0vv",
        "outputId": "3338bfff-eca7-4d06-9ef4-e18d1d93c598",
        "colab": {
          "base_uri": "https://localhost:8080/"
        }
      },
      "execution_count": null,
      "outputs": [
        {
          "output_type": "stream",
          "name": "stdout",
          "text": [
            "20\n",
            "Hola Mi Golden Analytic\n"
          ]
        }
      ]
    },
    {
      "cell_type": "markdown",
      "source": [
        "Ver el tipo de dato"
      ],
      "metadata": {
        "id": "MqoIf-z0CFCu"
      }
    },
    {
      "cell_type": "code",
      "source": [
        "type(a)\n",
        "print(type(a))\n",
        "print(f\"El tipo de dato de a es: {type(a)}\")\n"
      ],
      "metadata": {
        "id": "3A32TcAbCOXW",
        "outputId": "39a6d42b-9d99-40c7-ae14-4c84a0b3b677",
        "colab": {
          "base_uri": "https://localhost:8080/"
        }
      },
      "execution_count": null,
      "outputs": [
        {
          "output_type": "stream",
          "name": "stdout",
          "text": [
            "<class 'int'>\n",
            "El tipo de dato de a es: <class 'int'>\n"
          ]
        }
      ]
    },
    {
      "cell_type": "markdown",
      "source": [
        "Ejemplo de lista con números random"
      ],
      "metadata": {
        "id": "nGKR0VQfExAT"
      }
    },
    {
      "cell_type": "code",
      "source": [
        "# Importamos la libreria random\n",
        "import random\n",
        "lista_estatica = []\n",
        "lista_random = list()\n",
        "\n",
        "for i in range(5):\n",
        "  lista_estatica.append(i)\n",
        "\n",
        "for i in range(5):\n",
        "    lista_random.append(random.randint(1,10))\n",
        "\n",
        "print(\"Mi lista estática\", lista_estatica)\n",
        "print(\"Mi lista random\", lista_random)"
      ],
      "metadata": {
        "id": "zm5gZ9qmCGVp",
        "outputId": "9fa8f5d1-b030-482c-f6ef-d6e49afcce09",
        "colab": {
          "base_uri": "https://localhost:8080/"
        }
      },
      "execution_count": null,
      "outputs": [
        {
          "output_type": "stream",
          "name": "stdout",
          "text": [
            "Mi lista estática [0, 1, 2, 3, 4]\n",
            "Mi lista random [10, 3, 5, 9, 9]\n"
          ]
        }
      ]
    }
  ]
}